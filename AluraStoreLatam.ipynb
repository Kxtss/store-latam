{
  "cells": [
    {
      "cell_type": "markdown",
      "metadata": {
        "id": "RhEdWd9YUR6H"
      },
      "source": [
        "### Importación de datos\n"
      ]
    },
    {
      "cell_type": "code",
      "execution_count": 150,
      "metadata": {
        "colab": {
          "base_uri": "https://localhost:8080/",
          "height": 206
        },
        "id": "T3EvaeQ_INIL",
        "outputId": "e9c5efe1-82a3-43ab-e8d7-6d01e4fa3514"
      },
      "outputs": [
        {
          "data": {
            "application/vnd.microsoft.datawrangler.viewer.v0+json": {
              "columns": [
                {
                  "name": "index",
                  "rawType": "int64",
                  "type": "integer"
                },
                {
                  "name": "Producto",
                  "rawType": "object",
                  "type": "string"
                },
                {
                  "name": "Categoría del Producto",
                  "rawType": "object",
                  "type": "string"
                },
                {
                  "name": "Precio",
                  "rawType": "float64",
                  "type": "float"
                },
                {
                  "name": "Costo de envío",
                  "rawType": "float64",
                  "type": "float"
                },
                {
                  "name": "Fecha de Compra",
                  "rawType": "object",
                  "type": "string"
                },
                {
                  "name": "Vendedor",
                  "rawType": "object",
                  "type": "string"
                },
                {
                  "name": "Lugar de Compra",
                  "rawType": "object",
                  "type": "string"
                },
                {
                  "name": "Calificación",
                  "rawType": "int64",
                  "type": "integer"
                },
                {
                  "name": "Método de pago",
                  "rawType": "object",
                  "type": "string"
                },
                {
                  "name": "Cantidad de cuotas",
                  "rawType": "int64",
                  "type": "integer"
                },
                {
                  "name": "lat",
                  "rawType": "float64",
                  "type": "float"
                },
                {
                  "name": "lon",
                  "rawType": "float64",
                  "type": "float"
                }
              ],
              "ref": "5b078c2b-dd4f-4054-ab9f-d81ccdfa0a14",
              "rows": [
                [
                  "0",
                  "Asistente virtual",
                  "Electrónicos",
                  "164300.0",
                  "6900.0",
                  "16/01/2021",
                  "Pedro Gomez",
                  "Bogotá",
                  "4",
                  "Tarjeta de crédito",
                  "8",
                  "4.60971",
                  "-74.08175"
                ],
                [
                  "1",
                  "Mesa de comedor",
                  "Muebles",
                  "192300.0",
                  "8400.0",
                  "18/05/2022",
                  "Beatriz Morales",
                  "Medellín",
                  "1",
                  "Tarjeta de crédito",
                  "4",
                  "6.25184",
                  "-75.56359"
                ],
                [
                  "2",
                  "Juego de mesa",
                  "Juguetes",
                  "209600.0",
                  "15900.0",
                  "15/03/2021",
                  "Juan Fernandez",
                  "Cartagena",
                  "1",
                  "Tarjeta de crédito",
                  "1",
                  "10.39972",
                  "-75.51444"
                ],
                [
                  "3",
                  "Microondas",
                  "Electrodomésticos",
                  "757500.0",
                  "41000.0",
                  "03/05/2022",
                  "Juan Fernandez",
                  "Cali",
                  "4",
                  "Nequi",
                  "1",
                  "3.43722",
                  "-76.5225"
                ],
                [
                  "4",
                  "Silla de oficina",
                  "Muebles",
                  "335200.0",
                  "20200.0",
                  "07/11/2020",
                  "Maria Alfonso",
                  "Medellín",
                  "5",
                  "Nequi",
                  "1",
                  "6.25184",
                  "-75.56359"
                ]
              ],
              "shape": {
                "columns": 12,
                "rows": 5
              }
            },
            "text/html": [
              "<div>\n",
              "<style scoped>\n",
              "    .dataframe tbody tr th:only-of-type {\n",
              "        vertical-align: middle;\n",
              "    }\n",
              "\n",
              "    .dataframe tbody tr th {\n",
              "        vertical-align: top;\n",
              "    }\n",
              "\n",
              "    .dataframe thead th {\n",
              "        text-align: right;\n",
              "    }\n",
              "</style>\n",
              "<table border=\"1\" class=\"dataframe\">\n",
              "  <thead>\n",
              "    <tr style=\"text-align: right;\">\n",
              "      <th></th>\n",
              "      <th>Producto</th>\n",
              "      <th>Categoría del Producto</th>\n",
              "      <th>Precio</th>\n",
              "      <th>Costo de envío</th>\n",
              "      <th>Fecha de Compra</th>\n",
              "      <th>Vendedor</th>\n",
              "      <th>Lugar de Compra</th>\n",
              "      <th>Calificación</th>\n",
              "      <th>Método de pago</th>\n",
              "      <th>Cantidad de cuotas</th>\n",
              "      <th>lat</th>\n",
              "      <th>lon</th>\n",
              "    </tr>\n",
              "  </thead>\n",
              "  <tbody>\n",
              "    <tr>\n",
              "      <th>0</th>\n",
              "      <td>Asistente virtual</td>\n",
              "      <td>Electrónicos</td>\n",
              "      <td>164300.0</td>\n",
              "      <td>6900.0</td>\n",
              "      <td>16/01/2021</td>\n",
              "      <td>Pedro Gomez</td>\n",
              "      <td>Bogotá</td>\n",
              "      <td>4</td>\n",
              "      <td>Tarjeta de crédito</td>\n",
              "      <td>8</td>\n",
              "      <td>4.60971</td>\n",
              "      <td>-74.08175</td>\n",
              "    </tr>\n",
              "    <tr>\n",
              "      <th>1</th>\n",
              "      <td>Mesa de comedor</td>\n",
              "      <td>Muebles</td>\n",
              "      <td>192300.0</td>\n",
              "      <td>8400.0</td>\n",
              "      <td>18/05/2022</td>\n",
              "      <td>Beatriz Morales</td>\n",
              "      <td>Medellín</td>\n",
              "      <td>1</td>\n",
              "      <td>Tarjeta de crédito</td>\n",
              "      <td>4</td>\n",
              "      <td>6.25184</td>\n",
              "      <td>-75.56359</td>\n",
              "    </tr>\n",
              "    <tr>\n",
              "      <th>2</th>\n",
              "      <td>Juego de mesa</td>\n",
              "      <td>Juguetes</td>\n",
              "      <td>209600.0</td>\n",
              "      <td>15900.0</td>\n",
              "      <td>15/03/2021</td>\n",
              "      <td>Juan Fernandez</td>\n",
              "      <td>Cartagena</td>\n",
              "      <td>1</td>\n",
              "      <td>Tarjeta de crédito</td>\n",
              "      <td>1</td>\n",
              "      <td>10.39972</td>\n",
              "      <td>-75.51444</td>\n",
              "    </tr>\n",
              "    <tr>\n",
              "      <th>3</th>\n",
              "      <td>Microondas</td>\n",
              "      <td>Electrodomésticos</td>\n",
              "      <td>757500.0</td>\n",
              "      <td>41000.0</td>\n",
              "      <td>03/05/2022</td>\n",
              "      <td>Juan Fernandez</td>\n",
              "      <td>Cali</td>\n",
              "      <td>4</td>\n",
              "      <td>Nequi</td>\n",
              "      <td>1</td>\n",
              "      <td>3.43722</td>\n",
              "      <td>-76.52250</td>\n",
              "    </tr>\n",
              "    <tr>\n",
              "      <th>4</th>\n",
              "      <td>Silla de oficina</td>\n",
              "      <td>Muebles</td>\n",
              "      <td>335200.0</td>\n",
              "      <td>20200.0</td>\n",
              "      <td>07/11/2020</td>\n",
              "      <td>Maria Alfonso</td>\n",
              "      <td>Medellín</td>\n",
              "      <td>5</td>\n",
              "      <td>Nequi</td>\n",
              "      <td>1</td>\n",
              "      <td>6.25184</td>\n",
              "      <td>-75.56359</td>\n",
              "    </tr>\n",
              "  </tbody>\n",
              "</table>\n",
              "</div>"
            ],
            "text/plain": [
              "            Producto Categoría del Producto    Precio  Costo de envío  \\\n",
              "0  Asistente virtual           Electrónicos  164300.0          6900.0   \n",
              "1    Mesa de comedor                Muebles  192300.0          8400.0   \n",
              "2      Juego de mesa               Juguetes  209600.0         15900.0   \n",
              "3         Microondas      Electrodomésticos  757500.0         41000.0   \n",
              "4   Silla de oficina                Muebles  335200.0         20200.0   \n",
              "\n",
              "  Fecha de Compra         Vendedor Lugar de Compra  Calificación  \\\n",
              "0      16/01/2021      Pedro Gomez          Bogotá             4   \n",
              "1      18/05/2022  Beatriz Morales        Medellín             1   \n",
              "2      15/03/2021   Juan Fernandez       Cartagena             1   \n",
              "3      03/05/2022   Juan Fernandez            Cali             4   \n",
              "4      07/11/2020    Maria Alfonso        Medellín             5   \n",
              "\n",
              "       Método de pago  Cantidad de cuotas       lat       lon  \n",
              "0  Tarjeta de crédito                   8   4.60971 -74.08175  \n",
              "1  Tarjeta de crédito                   4   6.25184 -75.56359  \n",
              "2  Tarjeta de crédito                   1  10.39972 -75.51444  \n",
              "3               Nequi                   1   3.43722 -76.52250  \n",
              "4               Nequi                   1   6.25184 -75.56359  "
            ]
          },
          "execution_count": 150,
          "metadata": {},
          "output_type": "execute_result"
        }
      ],
      "source": [
        "import pandas as pd\n",
        "import matplotlib.pyplot as plt\n",
        "import numpy as np\n",
        "\n",
        "url = \"https://raw.githubusercontent.com/alura-es-cursos/challenge1-data-science-latam/refs/heads/main/base-de-datos-challenge1-latam/tienda_1%20.csv\"\n",
        "url2 = \"https://raw.githubusercontent.com/alura-es-cursos/challenge1-data-science-latam/refs/heads/main/base-de-datos-challenge1-latam/tienda_2.csv\"\n",
        "url3 = \"https://raw.githubusercontent.com/alura-es-cursos/challenge1-data-science-latam/refs/heads/main/base-de-datos-challenge1-latam/tienda_3.csv\"\n",
        "url4 = \"https://raw.githubusercontent.com/alura-es-cursos/challenge1-data-science-latam/refs/heads/main/base-de-datos-challenge1-latam/tienda_4.csv\"\n",
        "\n",
        "tienda = pd.read_csv(url)\n",
        "tienda2 = pd.read_csv(url2)\n",
        "tienda3 = pd.read_csv(url3)\n",
        "tienda4 = pd.read_csv(url4)\n",
        "\n",
        "tienda.head()"
      ]
    },
    {
      "cell_type": "code",
      "execution_count": 151,
      "metadata": {},
      "outputs": [
        {
          "data": {
            "application/vnd.microsoft.datawrangler.viewer.v0+json": {
              "columns": [
                {
                  "name": "index",
                  "rawType": "int64",
                  "type": "integer"
                },
                {
                  "name": "Producto",
                  "rawType": "object",
                  "type": "string"
                },
                {
                  "name": "Categoría del Producto",
                  "rawType": "object",
                  "type": "string"
                },
                {
                  "name": "Precio",
                  "rawType": "float64",
                  "type": "float"
                },
                {
                  "name": "Costo de envío",
                  "rawType": "float64",
                  "type": "float"
                },
                {
                  "name": "Fecha de Compra",
                  "rawType": "object",
                  "type": "string"
                },
                {
                  "name": "Vendedor",
                  "rawType": "object",
                  "type": "string"
                },
                {
                  "name": "Lugar de Compra",
                  "rawType": "object",
                  "type": "string"
                },
                {
                  "name": "Calificación",
                  "rawType": "int64",
                  "type": "integer"
                },
                {
                  "name": "Método de pago",
                  "rawType": "object",
                  "type": "string"
                },
                {
                  "name": "Cantidad de cuotas",
                  "rawType": "int64",
                  "type": "integer"
                },
                {
                  "name": "lat",
                  "rawType": "float64",
                  "type": "float"
                },
                {
                  "name": "lon",
                  "rawType": "float64",
                  "type": "float"
                }
              ],
              "ref": "c98e8db4-e25f-4326-b70d-69803a9204e5",
              "rows": [
                [
                  "0",
                  "Silla de oficina",
                  "Muebles",
                  "283600.0",
                  "15300.0",
                  "04/08/2021",
                  "Izabela de León",
                  "Medellín",
                  "1",
                  "Nequi",
                  "1",
                  "6.25184",
                  "-75.56359"
                ],
                [
                  "1",
                  "Pandereta",
                  "Instrumentos musicales",
                  "76800.0",
                  "2300.0",
                  "26/11/2020",
                  "Blanca Ramirez",
                  "Medellín",
                  "3",
                  "Tarjeta de crédito",
                  "4",
                  "6.25184",
                  "-75.56359"
                ],
                [
                  "2",
                  "Cama king",
                  "Muebles",
                  "443300.0",
                  "23800.0",
                  "22/10/2021",
                  "Izabela de León",
                  "Pereira",
                  "5",
                  "Tarjeta de crédito",
                  "10",
                  "4.81333",
                  "-75.69611"
                ],
                [
                  "3",
                  "Cama king",
                  "Muebles",
                  "906200.0",
                  "46400.0",
                  "04/05/2022",
                  "Maria Alfonso",
                  "Cali",
                  "5",
                  "Tarjeta de crédito",
                  "10",
                  "3.43722",
                  "-76.5225"
                ],
                [
                  "4",
                  "Silla de oficina",
                  "Muebles",
                  "397800.0",
                  "19400.0",
                  "26/02/2022",
                  "Lucas Olivera",
                  "Bogotá",
                  "4",
                  "Tarjeta de crédito",
                  "3",
                  "4.60971",
                  "-74.08175"
                ]
              ],
              "shape": {
                "columns": 12,
                "rows": 5
              }
            },
            "text/html": [
              "<div>\n",
              "<style scoped>\n",
              "    .dataframe tbody tr th:only-of-type {\n",
              "        vertical-align: middle;\n",
              "    }\n",
              "\n",
              "    .dataframe tbody tr th {\n",
              "        vertical-align: top;\n",
              "    }\n",
              "\n",
              "    .dataframe thead th {\n",
              "        text-align: right;\n",
              "    }\n",
              "</style>\n",
              "<table border=\"1\" class=\"dataframe\">\n",
              "  <thead>\n",
              "    <tr style=\"text-align: right;\">\n",
              "      <th></th>\n",
              "      <th>Producto</th>\n",
              "      <th>Categoría del Producto</th>\n",
              "      <th>Precio</th>\n",
              "      <th>Costo de envío</th>\n",
              "      <th>Fecha de Compra</th>\n",
              "      <th>Vendedor</th>\n",
              "      <th>Lugar de Compra</th>\n",
              "      <th>Calificación</th>\n",
              "      <th>Método de pago</th>\n",
              "      <th>Cantidad de cuotas</th>\n",
              "      <th>lat</th>\n",
              "      <th>lon</th>\n",
              "    </tr>\n",
              "  </thead>\n",
              "  <tbody>\n",
              "    <tr>\n",
              "      <th>0</th>\n",
              "      <td>Silla de oficina</td>\n",
              "      <td>Muebles</td>\n",
              "      <td>283600.0</td>\n",
              "      <td>15300.0</td>\n",
              "      <td>04/08/2021</td>\n",
              "      <td>Izabela de León</td>\n",
              "      <td>Medellín</td>\n",
              "      <td>1</td>\n",
              "      <td>Nequi</td>\n",
              "      <td>1</td>\n",
              "      <td>6.25184</td>\n",
              "      <td>-75.56359</td>\n",
              "    </tr>\n",
              "    <tr>\n",
              "      <th>1</th>\n",
              "      <td>Pandereta</td>\n",
              "      <td>Instrumentos musicales</td>\n",
              "      <td>76800.0</td>\n",
              "      <td>2300.0</td>\n",
              "      <td>26/11/2020</td>\n",
              "      <td>Blanca Ramirez</td>\n",
              "      <td>Medellín</td>\n",
              "      <td>3</td>\n",
              "      <td>Tarjeta de crédito</td>\n",
              "      <td>4</td>\n",
              "      <td>6.25184</td>\n",
              "      <td>-75.56359</td>\n",
              "    </tr>\n",
              "    <tr>\n",
              "      <th>2</th>\n",
              "      <td>Cama king</td>\n",
              "      <td>Muebles</td>\n",
              "      <td>443300.0</td>\n",
              "      <td>23800.0</td>\n",
              "      <td>22/10/2021</td>\n",
              "      <td>Izabela de León</td>\n",
              "      <td>Pereira</td>\n",
              "      <td>5</td>\n",
              "      <td>Tarjeta de crédito</td>\n",
              "      <td>10</td>\n",
              "      <td>4.81333</td>\n",
              "      <td>-75.69611</td>\n",
              "    </tr>\n",
              "    <tr>\n",
              "      <th>3</th>\n",
              "      <td>Cama king</td>\n",
              "      <td>Muebles</td>\n",
              "      <td>906200.0</td>\n",
              "      <td>46400.0</td>\n",
              "      <td>04/05/2022</td>\n",
              "      <td>Maria Alfonso</td>\n",
              "      <td>Cali</td>\n",
              "      <td>5</td>\n",
              "      <td>Tarjeta de crédito</td>\n",
              "      <td>10</td>\n",
              "      <td>3.43722</td>\n",
              "      <td>-76.52250</td>\n",
              "    </tr>\n",
              "    <tr>\n",
              "      <th>4</th>\n",
              "      <td>Silla de oficina</td>\n",
              "      <td>Muebles</td>\n",
              "      <td>397800.0</td>\n",
              "      <td>19400.0</td>\n",
              "      <td>26/02/2022</td>\n",
              "      <td>Lucas Olivera</td>\n",
              "      <td>Bogotá</td>\n",
              "      <td>4</td>\n",
              "      <td>Tarjeta de crédito</td>\n",
              "      <td>3</td>\n",
              "      <td>4.60971</td>\n",
              "      <td>-74.08175</td>\n",
              "    </tr>\n",
              "  </tbody>\n",
              "</table>\n",
              "</div>"
            ],
            "text/plain": [
              "           Producto  Categoría del Producto    Precio  Costo de envío  \\\n",
              "0  Silla de oficina                 Muebles  283600.0         15300.0   \n",
              "1         Pandereta  Instrumentos musicales   76800.0          2300.0   \n",
              "2         Cama king                 Muebles  443300.0         23800.0   \n",
              "3         Cama king                 Muebles  906200.0         46400.0   \n",
              "4  Silla de oficina                 Muebles  397800.0         19400.0   \n",
              "\n",
              "  Fecha de Compra         Vendedor Lugar de Compra  Calificación  \\\n",
              "0      04/08/2021  Izabela de León        Medellín             1   \n",
              "1      26/11/2020   Blanca Ramirez        Medellín             3   \n",
              "2      22/10/2021  Izabela de León         Pereira             5   \n",
              "3      04/05/2022    Maria Alfonso            Cali             5   \n",
              "4      26/02/2022    Lucas Olivera          Bogotá             4   \n",
              "\n",
              "       Método de pago  Cantidad de cuotas      lat       lon  \n",
              "0               Nequi                   1  6.25184 -75.56359  \n",
              "1  Tarjeta de crédito                   4  6.25184 -75.56359  \n",
              "2  Tarjeta de crédito                  10  4.81333 -75.69611  \n",
              "3  Tarjeta de crédito                  10  3.43722 -76.52250  \n",
              "4  Tarjeta de crédito                   3  4.60971 -74.08175  "
            ]
          },
          "execution_count": 151,
          "metadata": {},
          "output_type": "execute_result"
        }
      ],
      "source": [
        "tienda2.head()"
      ]
    },
    {
      "cell_type": "code",
      "execution_count": 152,
      "metadata": {},
      "outputs": [
        {
          "data": {
            "application/vnd.microsoft.datawrangler.viewer.v0+json": {
              "columns": [
                {
                  "name": "index",
                  "rawType": "int64",
                  "type": "integer"
                },
                {
                  "name": "Producto",
                  "rawType": "object",
                  "type": "string"
                },
                {
                  "name": "Categoría del Producto",
                  "rawType": "object",
                  "type": "string"
                },
                {
                  "name": "Precio",
                  "rawType": "float64",
                  "type": "float"
                },
                {
                  "name": "Costo de envío",
                  "rawType": "float64",
                  "type": "float"
                },
                {
                  "name": "Fecha de Compra",
                  "rawType": "object",
                  "type": "string"
                },
                {
                  "name": "Vendedor",
                  "rawType": "object",
                  "type": "string"
                },
                {
                  "name": "Lugar de Compra",
                  "rawType": "object",
                  "type": "string"
                },
                {
                  "name": "Calificación",
                  "rawType": "int64",
                  "type": "integer"
                },
                {
                  "name": "Método de pago",
                  "rawType": "object",
                  "type": "string"
                },
                {
                  "name": "Cantidad de cuotas",
                  "rawType": "int64",
                  "type": "integer"
                },
                {
                  "name": "lat",
                  "rawType": "float64",
                  "type": "float"
                },
                {
                  "name": "lon",
                  "rawType": "float64",
                  "type": "float"
                }
              ],
              "ref": "0cebd124-c079-4d7b-b7e7-e70d91dd04c6",
              "rows": [
                [
                  "0",
                  "Secadora de ropa",
                  "Electrodomésticos",
                  "1285100.0",
                  "66600.0",
                  "17/12/2021",
                  "Camila Rivera",
                  "Santa Marta",
                  "4",
                  "Tarjeta de crédito",
                  "4",
                  "11.24079",
                  "-74.19904"
                ],
                [
                  "1",
                  "Mesa de noche",
                  "Muebles",
                  "290100.0",
                  "13600.0",
                  "10/02/2021",
                  "Maria Alfonso",
                  "Cali",
                  "3",
                  "Tarjeta de crédito",
                  "1",
                  "3.43722",
                  "-76.5225"
                ],
                [
                  "2",
                  "Guitarra acústica",
                  "Instrumentos musicales",
                  "303500.0",
                  "17400.0",
                  "22/01/2023",
                  "Lucas Olivera",
                  "Bogotá",
                  "5",
                  "Tarjeta de crédito",
                  "3",
                  "4.60971",
                  "-74.08175"
                ],
                [
                  "3",
                  "Balón de voleibol",
                  "Deportes y diversión",
                  "58800.0",
                  "3300.0",
                  "22/03/2022",
                  "Pedro Gomez",
                  "Barranquilla",
                  "4",
                  "Tarjeta de crédito",
                  "6",
                  "10.96854",
                  "-74.78132"
                ],
                [
                  "4",
                  "Armario",
                  "Muebles",
                  "521100.0",
                  "25900.0",
                  "12/01/2022",
                  "Blanca Ramirez",
                  "Bogotá",
                  "1",
                  "Tarjeta de crédito",
                  "1",
                  "4.60971",
                  "-74.08175"
                ]
              ],
              "shape": {
                "columns": 12,
                "rows": 5
              }
            },
            "text/html": [
              "<div>\n",
              "<style scoped>\n",
              "    .dataframe tbody tr th:only-of-type {\n",
              "        vertical-align: middle;\n",
              "    }\n",
              "\n",
              "    .dataframe tbody tr th {\n",
              "        vertical-align: top;\n",
              "    }\n",
              "\n",
              "    .dataframe thead th {\n",
              "        text-align: right;\n",
              "    }\n",
              "</style>\n",
              "<table border=\"1\" class=\"dataframe\">\n",
              "  <thead>\n",
              "    <tr style=\"text-align: right;\">\n",
              "      <th></th>\n",
              "      <th>Producto</th>\n",
              "      <th>Categoría del Producto</th>\n",
              "      <th>Precio</th>\n",
              "      <th>Costo de envío</th>\n",
              "      <th>Fecha de Compra</th>\n",
              "      <th>Vendedor</th>\n",
              "      <th>Lugar de Compra</th>\n",
              "      <th>Calificación</th>\n",
              "      <th>Método de pago</th>\n",
              "      <th>Cantidad de cuotas</th>\n",
              "      <th>lat</th>\n",
              "      <th>lon</th>\n",
              "    </tr>\n",
              "  </thead>\n",
              "  <tbody>\n",
              "    <tr>\n",
              "      <th>0</th>\n",
              "      <td>Secadora de ropa</td>\n",
              "      <td>Electrodomésticos</td>\n",
              "      <td>1285100.0</td>\n",
              "      <td>66600.0</td>\n",
              "      <td>17/12/2021</td>\n",
              "      <td>Camila Rivera</td>\n",
              "      <td>Santa Marta</td>\n",
              "      <td>4</td>\n",
              "      <td>Tarjeta de crédito</td>\n",
              "      <td>4</td>\n",
              "      <td>11.24079</td>\n",
              "      <td>-74.19904</td>\n",
              "    </tr>\n",
              "    <tr>\n",
              "      <th>1</th>\n",
              "      <td>Mesa de noche</td>\n",
              "      <td>Muebles</td>\n",
              "      <td>290100.0</td>\n",
              "      <td>13600.0</td>\n",
              "      <td>10/02/2021</td>\n",
              "      <td>Maria Alfonso</td>\n",
              "      <td>Cali</td>\n",
              "      <td>3</td>\n",
              "      <td>Tarjeta de crédito</td>\n",
              "      <td>1</td>\n",
              "      <td>3.43722</td>\n",
              "      <td>-76.52250</td>\n",
              "    </tr>\n",
              "    <tr>\n",
              "      <th>2</th>\n",
              "      <td>Guitarra acústica</td>\n",
              "      <td>Instrumentos musicales</td>\n",
              "      <td>303500.0</td>\n",
              "      <td>17400.0</td>\n",
              "      <td>22/01/2023</td>\n",
              "      <td>Lucas Olivera</td>\n",
              "      <td>Bogotá</td>\n",
              "      <td>5</td>\n",
              "      <td>Tarjeta de crédito</td>\n",
              "      <td>3</td>\n",
              "      <td>4.60971</td>\n",
              "      <td>-74.08175</td>\n",
              "    </tr>\n",
              "    <tr>\n",
              "      <th>3</th>\n",
              "      <td>Balón de voleibol</td>\n",
              "      <td>Deportes y diversión</td>\n",
              "      <td>58800.0</td>\n",
              "      <td>3300.0</td>\n",
              "      <td>22/03/2022</td>\n",
              "      <td>Pedro Gomez</td>\n",
              "      <td>Barranquilla</td>\n",
              "      <td>4</td>\n",
              "      <td>Tarjeta de crédito</td>\n",
              "      <td>6</td>\n",
              "      <td>10.96854</td>\n",
              "      <td>-74.78132</td>\n",
              "    </tr>\n",
              "    <tr>\n",
              "      <th>4</th>\n",
              "      <td>Armario</td>\n",
              "      <td>Muebles</td>\n",
              "      <td>521100.0</td>\n",
              "      <td>25900.0</td>\n",
              "      <td>12/01/2022</td>\n",
              "      <td>Blanca Ramirez</td>\n",
              "      <td>Bogotá</td>\n",
              "      <td>1</td>\n",
              "      <td>Tarjeta de crédito</td>\n",
              "      <td>1</td>\n",
              "      <td>4.60971</td>\n",
              "      <td>-74.08175</td>\n",
              "    </tr>\n",
              "  </tbody>\n",
              "</table>\n",
              "</div>"
            ],
            "text/plain": [
              "            Producto  Categoría del Producto     Precio  Costo de envío  \\\n",
              "0   Secadora de ropa       Electrodomésticos  1285100.0         66600.0   \n",
              "1      Mesa de noche                 Muebles   290100.0         13600.0   \n",
              "2  Guitarra acústica  Instrumentos musicales   303500.0         17400.0   \n",
              "3  Balón de voleibol    Deportes y diversión    58800.0          3300.0   \n",
              "4            Armario                 Muebles   521100.0         25900.0   \n",
              "\n",
              "  Fecha de Compra        Vendedor Lugar de Compra  Calificación  \\\n",
              "0      17/12/2021   Camila Rivera     Santa Marta             4   \n",
              "1      10/02/2021   Maria Alfonso            Cali             3   \n",
              "2      22/01/2023   Lucas Olivera          Bogotá             5   \n",
              "3      22/03/2022     Pedro Gomez    Barranquilla             4   \n",
              "4      12/01/2022  Blanca Ramirez          Bogotá             1   \n",
              "\n",
              "       Método de pago  Cantidad de cuotas       lat       lon  \n",
              "0  Tarjeta de crédito                   4  11.24079 -74.19904  \n",
              "1  Tarjeta de crédito                   1   3.43722 -76.52250  \n",
              "2  Tarjeta de crédito                   3   4.60971 -74.08175  \n",
              "3  Tarjeta de crédito                   6  10.96854 -74.78132  \n",
              "4  Tarjeta de crédito                   1   4.60971 -74.08175  "
            ]
          },
          "execution_count": 152,
          "metadata": {},
          "output_type": "execute_result"
        }
      ],
      "source": [
        "tienda3.head()"
      ]
    },
    {
      "cell_type": "code",
      "execution_count": 153,
      "metadata": {},
      "outputs": [
        {
          "data": {
            "application/vnd.microsoft.datawrangler.viewer.v0+json": {
              "columns": [
                {
                  "name": "index",
                  "rawType": "int64",
                  "type": "integer"
                },
                {
                  "name": "Producto",
                  "rawType": "object",
                  "type": "string"
                },
                {
                  "name": "Categoría del Producto",
                  "rawType": "object",
                  "type": "string"
                },
                {
                  "name": "Precio",
                  "rawType": "float64",
                  "type": "float"
                },
                {
                  "name": "Costo de envío",
                  "rawType": "float64",
                  "type": "float"
                },
                {
                  "name": "Fecha de Compra",
                  "rawType": "object",
                  "type": "string"
                },
                {
                  "name": "Vendedor",
                  "rawType": "object",
                  "type": "string"
                },
                {
                  "name": "Lugar de Compra",
                  "rawType": "object",
                  "type": "string"
                },
                {
                  "name": "Calificación",
                  "rawType": "int64",
                  "type": "integer"
                },
                {
                  "name": "Método de pago",
                  "rawType": "object",
                  "type": "string"
                },
                {
                  "name": "Cantidad de cuotas",
                  "rawType": "int64",
                  "type": "integer"
                },
                {
                  "name": "lat",
                  "rawType": "float64",
                  "type": "float"
                },
                {
                  "name": "lon",
                  "rawType": "float64",
                  "type": "float"
                }
              ],
              "ref": "2b040287-450e-47ba-bad9-b62f1de1f9a4",
              "rows": [
                [
                  "0",
                  "Lavavajillas",
                  "Electrodomésticos",
                  "1084800.0",
                  "56000.0",
                  "11/11/2022",
                  "Rafael Acosta",
                  "Bogotá",
                  "4",
                  "Tarjeta de crédito",
                  "3",
                  "4.60971",
                  "-74.08175"
                ],
                [
                  "1",
                  "Cama box",
                  "Muebles",
                  "473800.0",
                  "25400.0",
                  "03/01/2020",
                  "Izabela de León",
                  "Cúcuta",
                  "5",
                  "Tarjeta de crédito",
                  "2",
                  "7.89391",
                  "-72.50782"
                ],
                [
                  "2",
                  "Balón de baloncesto",
                  "Deportes y diversión",
                  "23700.0",
                  "0.0",
                  "25/12/2022",
                  "Maria Alfonso",
                  "Medellín",
                  "5",
                  "Nequi",
                  "1",
                  "6.25184",
                  "-75.56359"
                ],
                [
                  "3",
                  "Modelado predictivo",
                  "Libros",
                  "57700.0",
                  "1300.0",
                  "23/11/2021",
                  "Lucas Olivera",
                  "Medellín",
                  "3",
                  "Nequi",
                  "1",
                  "6.25184",
                  "-75.56359"
                ],
                [
                  "4",
                  "Auriculares",
                  "Electrónicos",
                  "138900.0",
                  "5600.0",
                  "25/04/2022",
                  "Blanca Ramirez",
                  "Bogotá",
                  "4",
                  "Tarjeta de crédito",
                  "7",
                  "4.60971",
                  "-74.08175"
                ]
              ],
              "shape": {
                "columns": 12,
                "rows": 5
              }
            },
            "text/html": [
              "<div>\n",
              "<style scoped>\n",
              "    .dataframe tbody tr th:only-of-type {\n",
              "        vertical-align: middle;\n",
              "    }\n",
              "\n",
              "    .dataframe tbody tr th {\n",
              "        vertical-align: top;\n",
              "    }\n",
              "\n",
              "    .dataframe thead th {\n",
              "        text-align: right;\n",
              "    }\n",
              "</style>\n",
              "<table border=\"1\" class=\"dataframe\">\n",
              "  <thead>\n",
              "    <tr style=\"text-align: right;\">\n",
              "      <th></th>\n",
              "      <th>Producto</th>\n",
              "      <th>Categoría del Producto</th>\n",
              "      <th>Precio</th>\n",
              "      <th>Costo de envío</th>\n",
              "      <th>Fecha de Compra</th>\n",
              "      <th>Vendedor</th>\n",
              "      <th>Lugar de Compra</th>\n",
              "      <th>Calificación</th>\n",
              "      <th>Método de pago</th>\n",
              "      <th>Cantidad de cuotas</th>\n",
              "      <th>lat</th>\n",
              "      <th>lon</th>\n",
              "    </tr>\n",
              "  </thead>\n",
              "  <tbody>\n",
              "    <tr>\n",
              "      <th>0</th>\n",
              "      <td>Lavavajillas</td>\n",
              "      <td>Electrodomésticos</td>\n",
              "      <td>1084800.0</td>\n",
              "      <td>56000.0</td>\n",
              "      <td>11/11/2022</td>\n",
              "      <td>Rafael Acosta</td>\n",
              "      <td>Bogotá</td>\n",
              "      <td>4</td>\n",
              "      <td>Tarjeta de crédito</td>\n",
              "      <td>3</td>\n",
              "      <td>4.60971</td>\n",
              "      <td>-74.08175</td>\n",
              "    </tr>\n",
              "    <tr>\n",
              "      <th>1</th>\n",
              "      <td>Cama box</td>\n",
              "      <td>Muebles</td>\n",
              "      <td>473800.0</td>\n",
              "      <td>25400.0</td>\n",
              "      <td>03/01/2020</td>\n",
              "      <td>Izabela de León</td>\n",
              "      <td>Cúcuta</td>\n",
              "      <td>5</td>\n",
              "      <td>Tarjeta de crédito</td>\n",
              "      <td>2</td>\n",
              "      <td>7.89391</td>\n",
              "      <td>-72.50782</td>\n",
              "    </tr>\n",
              "    <tr>\n",
              "      <th>2</th>\n",
              "      <td>Balón de baloncesto</td>\n",
              "      <td>Deportes y diversión</td>\n",
              "      <td>23700.0</td>\n",
              "      <td>0.0</td>\n",
              "      <td>25/12/2022</td>\n",
              "      <td>Maria Alfonso</td>\n",
              "      <td>Medellín</td>\n",
              "      <td>5</td>\n",
              "      <td>Nequi</td>\n",
              "      <td>1</td>\n",
              "      <td>6.25184</td>\n",
              "      <td>-75.56359</td>\n",
              "    </tr>\n",
              "    <tr>\n",
              "      <th>3</th>\n",
              "      <td>Modelado predictivo</td>\n",
              "      <td>Libros</td>\n",
              "      <td>57700.0</td>\n",
              "      <td>1300.0</td>\n",
              "      <td>23/11/2021</td>\n",
              "      <td>Lucas Olivera</td>\n",
              "      <td>Medellín</td>\n",
              "      <td>3</td>\n",
              "      <td>Nequi</td>\n",
              "      <td>1</td>\n",
              "      <td>6.25184</td>\n",
              "      <td>-75.56359</td>\n",
              "    </tr>\n",
              "    <tr>\n",
              "      <th>4</th>\n",
              "      <td>Auriculares</td>\n",
              "      <td>Electrónicos</td>\n",
              "      <td>138900.0</td>\n",
              "      <td>5600.0</td>\n",
              "      <td>25/04/2022</td>\n",
              "      <td>Blanca Ramirez</td>\n",
              "      <td>Bogotá</td>\n",
              "      <td>4</td>\n",
              "      <td>Tarjeta de crédito</td>\n",
              "      <td>7</td>\n",
              "      <td>4.60971</td>\n",
              "      <td>-74.08175</td>\n",
              "    </tr>\n",
              "  </tbody>\n",
              "</table>\n",
              "</div>"
            ],
            "text/plain": [
              "              Producto Categoría del Producto     Precio  Costo de envío  \\\n",
              "0         Lavavajillas      Electrodomésticos  1084800.0         56000.0   \n",
              "1             Cama box                Muebles   473800.0         25400.0   \n",
              "2  Balón de baloncesto   Deportes y diversión    23700.0             0.0   \n",
              "3  Modelado predictivo                 Libros    57700.0          1300.0   \n",
              "4          Auriculares           Electrónicos   138900.0          5600.0   \n",
              "\n",
              "  Fecha de Compra         Vendedor Lugar de Compra  Calificación  \\\n",
              "0      11/11/2022    Rafael Acosta          Bogotá             4   \n",
              "1      03/01/2020  Izabela de León          Cúcuta             5   \n",
              "2      25/12/2022    Maria Alfonso        Medellín             5   \n",
              "3      23/11/2021    Lucas Olivera        Medellín             3   \n",
              "4      25/04/2022   Blanca Ramirez          Bogotá             4   \n",
              "\n",
              "       Método de pago  Cantidad de cuotas      lat       lon  \n",
              "0  Tarjeta de crédito                   3  4.60971 -74.08175  \n",
              "1  Tarjeta de crédito                   2  7.89391 -72.50782  \n",
              "2               Nequi                   1  6.25184 -75.56359  \n",
              "3               Nequi                   1  6.25184 -75.56359  \n",
              "4  Tarjeta de crédito                   7  4.60971 -74.08175  "
            ]
          },
          "execution_count": 153,
          "metadata": {},
          "output_type": "execute_result"
        }
      ],
      "source": [
        "tienda4.head()"
      ]
    },
    {
      "cell_type": "markdown",
      "metadata": {
        "id": "X62IW3KFUIYm"
      },
      "source": [
        "# 1. Análisis de facturación\n"
      ]
    },
    {
      "cell_type": "markdown",
      "metadata": {},
      "source": [
        "### Ingreso total por cada tienda\n"
      ]
    },
    {
      "cell_type": "code",
      "execution_count": 154,
      "metadata": {
        "id": "xykobSftV64I"
      },
      "outputs": [
        {
          "name": "stdout",
          "output_type": "stream",
          "text": [
            "Ingreso Total Tienda 1: 1,150,880,400.00\n",
            "Ingreso Total Tienda 2: 1,116,343,500.00\n",
            "Ingreso Total Tienda 3: 1,098,019,600.00\n",
            "Ingreso Total Tienda 4: 1,038,375,700.00\n"
          ]
        }
      ],
      "source": [
        "ingreso_total_tienda_1 = tienda[\"Precio\"].sum()\n",
        "ingreso_total_tienda_2 = tienda2[\"Precio\"].sum()\n",
        "ingreso_total_tienda_3 = tienda3[\"Precio\"].sum()\n",
        "ingreso_total_tienda_4 = tienda4[\"Precio\"].sum()\n",
        "\n",
        "print(f\"Ingreso Total Tienda 1: {ingreso_total_tienda_1:,.2f}\")\n",
        "print(f\"Ingreso Total Tienda 2: {ingreso_total_tienda_2:,.2f}\")\n",
        "print(f\"Ingreso Total Tienda 3: {ingreso_total_tienda_3:,.2f}\")\n",
        "print(f\"Ingreso Total Tienda 4: {ingreso_total_tienda_4:,.2f}\")"
      ]
    },
    {
      "cell_type": "code",
      "execution_count": 155,
      "metadata": {},
      "outputs": [
        {
          "data": {
            "image/png": "[encoded data removed]",
            "text/plain": [
              "<Figure size 900x600 with 1 Axes>"
            ]
          },
          "metadata": {},
          "output_type": "display_data"
        }
      ],
      "source": [
        "datos_ingresos = {\n",
        "    \"Tienda 1\": ingreso_total_tienda_1,\n",
        "    \"Tienda 2\": ingreso_total_tienda_2,\n",
        "    \"Tienda 3\": ingreso_total_tienda_3,\n",
        "    \"Tienda 4\": ingreso_total_tienda_4,\n",
        "}\n",
        "\n",
        "ranking_ingresos = pd.Series(datos_ingresos).sort_values(ascending=False)\n",
        "\n",
        "ranking_ingresos.plot(\n",
        "    kind=\"bar\",\n",
        "    figsize=(9, 6),\n",
        "    color=[\"#1f77b4\", \"#ff7f0e\", \"#2ca02c\", \"#d62728\"],\n",
        "    rot=0,\n",
        ")\n",
        "\n",
        "plt.title(\"Ranking de Ingreso Total por Tienda\", fontsize=16, fontweight=\"bold\")\n",
        "\n",
        "plt.xlabel(\"Tienda\", fontsize=12)\n",
        "plt.ylabel(\"Ingreso Total (Miles de Millones)\", fontsize=12)\n",
        "\n",
        "y_tick_values = plt.gca().get_yticks()\n",
        "plt.gca().set_yticks(y_tick_values)\n",
        "plt.gca().set_yticklabels([f\"{x * 1e-9:,.2f}MM\" for x in y_tick_values])\n",
        "\n",
        "\n",
        "ax = plt.gca()\n",
        "for i, v in enumerate(ranking_ingresos.values):\n",
        "    ax.text(i, v + 0.005, f\"{v:,.2f}\", ha=\"center\", va=\"bottom\", fontsize=10)\n",
        "\n",
        "plt.grid(axis=\"y\", linestyle=\"--\", alpha=0.7)\n",
        "\n",
        "plt.tight_layout()\n",
        "plt.show()"
      ]
    },
    {
      "cell_type": "markdown",
      "metadata": {
        "id": "2V_vcAPzWZmR"
      },
      "source": [
        "# 2. Ventas por categoría\n"
      ]
    },
    {
      "cell_type": "markdown",
      "metadata": {},
      "source": [
        "### Muestra la categoría mas popular vendida por cada tienda\n"
      ]
    },
    {
      "cell_type": "code",
      "execution_count": 156,
      "metadata": {
        "id": "A34YupIuYhfF"
      },
      "outputs": [],
      "source": [
        "ventas_categoria_tienda_1 = (\n",
        "    tienda.groupby(\"Categoría del Producto\").size().sort_values(ascending=False)\n",
        ")\n",
        "ventas_categoria_tienda_2 = (\n",
        "    tienda2.groupby(\"Categoría del Producto\").size().sort_values(ascending=False)\n",
        ")\n",
        "ventas_categoria_tienda_3 = (\n",
        "    tienda3.groupby(\"Categoría del Producto\").size().sort_values(ascending=False)\n",
        ")\n",
        "ventas_categoria_tienda_4 = (\n",
        "    tienda4.groupby(\"Categoría del Producto\").size().sort_values(ascending=False)\n",
        ")"
      ]
    },
    {
      "cell_type": "code",
      "execution_count": 157,
      "metadata": {
        "id": "yZR6cOjXYSk1"
      },
      "outputs": [
        {
          "data": {
            "application/vnd.microsoft.datawrangler.viewer.v0+json": {
              "columns": [
                {
                  "name": "Categoría del Producto",
                  "rawType": "object",
                  "type": "string"
                },
                {
                  "name": "0",
                  "rawType": "int64",
                  "type": "integer"
                }
              ],
              "ref": "c633e7e7-a291-42cc-a006-f936a89ae558",
              "rows": [
                [
                  "Muebles",
                  "465"
                ],
                [
                  "Electrónicos",
                  "448"
                ],
                [
                  "Juguetes",
                  "324"
                ],
                [
                  "Electrodomésticos",
                  "312"
                ],
                [
                  "Deportes y diversión",
                  "284"
                ],
                [
                  "Instrumentos musicales",
                  "182"
                ],
                [
                  "Libros",
                  "173"
                ],
                [
                  "Artículos para el hogar",
                  "171"
                ]
              ],
              "shape": {
                "columns": 1,
                "rows": 8
              }
            },
            "text/plain": [
              "Categoría del Producto\n",
              "Muebles                    465\n",
              "Electrónicos               448\n",
              "Juguetes                   324\n",
              "Electrodomésticos          312\n",
              "Deportes y diversión       284\n",
              "Instrumentos musicales     182\n",
              "Libros                     173\n",
              "Artículos para el hogar    171\n",
              "dtype: int64"
            ]
          },
          "execution_count": 157,
          "metadata": {},
          "output_type": "execute_result"
        }
      ],
      "source": [
        "ventas_categoria_tienda_1"
      ]
    },
    {
      "cell_type": "code",
      "execution_count": 158,
      "metadata": {},
      "outputs": [
        {
          "data": {
            "application/vnd.microsoft.datawrangler.viewer.v0+json": {
              "columns": [
                {
                  "name": "Categoría del Producto",
                  "rawType": "object",
                  "type": "string"
                },
                {
                  "name": "0",
                  "rawType": "int64",
                  "type": "integer"
                }
              ],
              "ref": "b73d5632-7942-4ae5-8e0b-80c951e6d8e1",
              "rows": [
                [
                  "Muebles",
                  "442"
                ],
                [
                  "Electrónicos",
                  "422"
                ],
                [
                  "Juguetes",
                  "313"
                ],
                [
                  "Electrodomésticos",
                  "305"
                ],
                [
                  "Deportes y diversión",
                  "275"
                ],
                [
                  "Instrumentos musicales",
                  "224"
                ],
                [
                  "Libros",
                  "197"
                ],
                [
                  "Artículos para el hogar",
                  "181"
                ]
              ],
              "shape": {
                "columns": 1,
                "rows": 8
              }
            },
            "text/plain": [
              "Categoría del Producto\n",
              "Muebles                    442\n",
              "Electrónicos               422\n",
              "Juguetes                   313\n",
              "Electrodomésticos          305\n",
              "Deportes y diversión       275\n",
              "Instrumentos musicales     224\n",
              "Libros                     197\n",
              "Artículos para el hogar    181\n",
              "dtype: int64"
            ]
          },
          "execution_count": 158,
          "metadata": {},
          "output_type": "execute_result"
        }
      ],
      "source": [
        "ventas_categoria_tienda_2"
      ]
    },
    {
      "cell_type": "code",
      "execution_count": 159,
      "metadata": {},
      "outputs": [
        {
          "data": {
            "application/vnd.microsoft.datawrangler.viewer.v0+json": {
              "columns": [
                {
                  "name": "Categoría del Producto",
                  "rawType": "object",
                  "type": "string"
                },
                {
                  "name": "0",
                  "rawType": "int64",
                  "type": "integer"
                }
              ],
              "ref": "a66ef633-829c-419e-b52b-8dd47e1179ee",
              "rows": [
                [
                  "Muebles",
                  "499"
                ],
                [
                  "Electrónicos",
                  "451"
                ],
                [
                  "Juguetes",
                  "315"
                ],
                [
                  "Electrodomésticos",
                  "278"
                ],
                [
                  "Deportes y diversión",
                  "277"
                ],
                [
                  "Libros",
                  "185"
                ],
                [
                  "Artículos para el hogar",
                  "177"
                ],
                [
                  "Instrumentos musicales",
                  "177"
                ]
              ],
              "shape": {
                "columns": 1,
                "rows": 8
              }
            },
            "text/plain": [
              "Categoría del Producto\n",
              "Muebles                    499\n",
              "Electrónicos               451\n",
              "Juguetes                   315\n",
              "Electrodomésticos          278\n",
              "Deportes y diversión       277\n",
              "Libros                     185\n",
              "Artículos para el hogar    177\n",
              "Instrumentos musicales     177\n",
              "dtype: int64"
            ]
          },
          "execution_count": 159,
          "metadata": {},
          "output_type": "execute_result"
        }
      ],
      "source": [
        "ventas_categoria_tienda_3"
      ]
    },
    {
      "cell_type": "code",
      "execution_count": 160,
      "metadata": {},
      "outputs": [
        {
          "data": {
            "application/vnd.microsoft.datawrangler.viewer.v0+json": {
              "columns": [
                {
                  "name": "Categoría del Producto",
                  "rawType": "object",
                  "type": "string"
                },
                {
                  "name": "0",
                  "rawType": "int64",
                  "type": "integer"
                }
              ],
              "ref": "ee1ef69c-a020-4643-bf97-f74b484e0576",
              "rows": [
                [
                  "Muebles",
                  "480"
                ],
                [
                  "Electrónicos",
                  "451"
                ],
                [
                  "Juguetes",
                  "338"
                ],
                [
                  "Deportes y diversión",
                  "277"
                ],
                [
                  "Electrodomésticos",
                  "254"
                ],
                [
                  "Artículos para el hogar",
                  "201"
                ],
                [
                  "Libros",
                  "187"
                ],
                [
                  "Instrumentos musicales",
                  "170"
                ]
              ],
              "shape": {
                "columns": 1,
                "rows": 8
              }
            },
            "text/plain": [
              "Categoría del Producto\n",
              "Muebles                    480\n",
              "Electrónicos               451\n",
              "Juguetes                   338\n",
              "Deportes y diversión       277\n",
              "Electrodomésticos          254\n",
              "Artículos para el hogar    201\n",
              "Libros                     187\n",
              "Instrumentos musicales     170\n",
              "dtype: int64"
            ]
          },
          "execution_count": 160,
          "metadata": {},
          "output_type": "execute_result"
        }
      ],
      "source": [
        "ventas_categoria_tienda_4"
      ]
    },
    {
      "cell_type": "code",
      "execution_count": 161,
      "metadata": {},
      "outputs": [
        {
          "data": {
            "image/png": "[encoded data removed]",
            "text/plain": [
              "<Figure size 1200x800 with 1 Axes>"
            ]
          },
          "metadata": {},
          "output_type": "display_data"
        }
      ],
      "source": [
        "datos_ventas_categoria = {\n",
        "    \"Tienda 1\": ventas_categoria_tienda_1,\n",
        "    \"Tienda 2\": ventas_categoria_tienda_2,\n",
        "    \"Tienda 3\": ventas_categoria_tienda_3,\n",
        "    \"Tienda 4\": ventas_categoria_tienda_4,\n",
        "}\n",
        "\n",
        "df_ventas_categoria = pd.concat(datos_ventas_categoria, axis=1)\n",
        "df_ventas_categoria = df_ventas_categoria.fillna(0)\n",
        "\n",
        "ax = df_ventas_categoria.plot(kind=\"barh\", stacked=False, figsize=(12, 8))\n",
        "\n",
        "max_valor = df_ventas_categoria.values.max()\n",
        "marcas_x = np.arange(0, max_valor + 50, 50)\n",
        "\n",
        "ax.set_xticks(marcas_x)\n",
        "\n",
        "plt.title(\n",
        "    \"Ventas por Categoría: Contribución de Cada Tienda\", fontsize=16, fontweight=\"bold\"\n",
        ")\n",
        "plt.xlabel(\"Cantidad de Productos Vendidos\", fontsize=12)\n",
        "plt.ylabel(\"Categoría del Producto\", fontsize=12)\n",
        "plt.legend(title=\"Tienda\")\n",
        "plt.grid(axis=\"x\", linestyle=\"--\", alpha=0.6)\n",
        "plt.tight_layout()\n",
        "plt.show()"
      ]
    },
    {
      "cell_type": "markdown",
      "metadata": {
        "id": "Rq6tU_xSY3jk"
      },
      "source": [
        "# 3. Calificación promedio de la tienda\n"
      ]
    },
    {
      "cell_type": "markdown",
      "metadata": {},
      "source": [
        "### El objetivo es conocer la satisfacción del cliente con los productos vendidos.\n"
      ]
    },
    {
      "cell_type": "code",
      "execution_count": 162,
      "metadata": {
        "id": "bh3jjjJwY5MU"
      },
      "outputs": [
        {
          "name": "stdout",
          "output_type": "stream",
          "text": [
            "Promedio Tienda 1: 3.98\n",
            "Promedio Tienda 2: 4.04\n",
            "Promedio Tienda 3: 4.05\n",
            "Promedio Tienda 4: 4.00\n"
          ]
        }
      ],
      "source": [
        "promedio_tienda_1 = tienda[\"Calificación\"].mean()\n",
        "promedio_tienda_2 = tienda2[\"Calificación\"].mean()\n",
        "promedio_tienda_3 = tienda3[\"Calificación\"].mean()\n",
        "promedio_tienda_4 = tienda4[\"Calificación\"].mean()\n",
        "\n",
        "print(f\"Promedio Tienda 1: {promedio_tienda_1:.2f}\")\n",
        "print(f\"Promedio Tienda 2: {promedio_tienda_2:.2f}\")\n",
        "print(f\"Promedio Tienda 3: {promedio_tienda_3:.2f}\")\n",
        "print(f\"Promedio Tienda 4: {promedio_tienda_4:.2f}\")"
      ]
    },
    {
      "cell_type": "code",
      "execution_count": 163,
      "metadata": {},
      "outputs": [
        {
          "data": {
            "image/png": "[encoded data removed]",
            "text/plain": [
              "<Figure size 900x600 with 1 Axes>"
            ]
          },
          "metadata": {},
          "output_type": "display_data"
        }
      ],
      "source": [
        "datos_calificacion_promedio = {\n",
        "    \"Tienda 1\": promedio_tienda_1,\n",
        "    \"Tienda 2\": promedio_tienda_2,\n",
        "    \"Tienda 3\": promedio_tienda_3,\n",
        "    \"Tienda 4\": promedio_tienda_4,\n",
        "}\n",
        "\n",
        "ranking_calificacion_promedio = pd.Series(datos_calificacion_promedio).sort_values(\n",
        "    ascending=False\n",
        ")\n",
        "\n",
        "ranking_calificacion_promedio.plot(\n",
        "    kind=\"bar\",\n",
        "    figsize=(9, 6),\n",
        "    color=[\"#1f77b4\", \"#ff7f0e\", \"#2ca02c\", \"#d62728\"],\n",
        "    rot=0,\n",
        ")\n",
        "\n",
        "plt.ylim(3.8, 4.1)\n",
        "\n",
        "plt.title(\"Ranking de Calificación Promedio por Tienda\", fontsize=16, fontweight=\"bold\")\n",
        "\n",
        "plt.xlabel(\"Tienda\", fontsize=12)\n",
        "plt.ylabel(\"Calificación\", fontsize=12)\n",
        "\n",
        "ax = plt.gca()\n",
        "for i, v in enumerate(ranking_calificacion_promedio.values):\n",
        "    ax.text(i, v + 0.005, f\"{v:.3f}\", ha=\"center\", va=\"bottom\", fontsize=10)\n",
        "\n",
        "plt.grid(axis=\"y\", linestyle=\"--\", alpha=0.7)\n",
        "plt.tight_layout()\n",
        "plt.show()"
      ]
    },
    {
      "cell_type": "markdown",
      "metadata": {
        "id": "DmNp1KPBZCm-"
      },
      "source": [
        "# 4. Productos más y menos vendidos\n"
      ]
    },
    {
      "cell_type": "markdown",
      "metadata": {},
      "source": [
        "### Identifica qué productos fueron los más vendidos y los menos vendidos en cada tienda.\n"
      ]
    },
    {
      "cell_type": "code",
      "execution_count": 164,
      "metadata": {
        "id": "qoyjqijQZHfF"
      },
      "outputs": [],
      "source": [
        "ventas_producto_tienda_1 = (\n",
        "    tienda.groupby(\"Producto\").size().sort_values(ascending=False)\n",
        ")\n",
        "ventas_producto_tienda_2 = (\n",
        "    tienda2.groupby(\"Producto\").size().sort_values(ascending=False)\n",
        ")\n",
        "ventas_producto_tienda_3 = (\n",
        "    tienda3.groupby(\"Producto\").size().sort_values(ascending=False)\n",
        ")\n",
        "ventas_producto_tienda_4 = (\n",
        "    tienda4.groupby(\"Producto\").size().sort_values(ascending=False)\n",
        ")"
      ]
    },
    {
      "cell_type": "code",
      "execution_count": 165,
      "metadata": {
        "id": "0Sw3sd4IZIGW"
      },
      "outputs": [
        {
          "data": {
            "application/vnd.microsoft.datawrangler.viewer.v0+json": {
              "columns": [
                {
                  "name": "Producto",
                  "rawType": "object",
                  "type": "string"
                },
                {
                  "name": "0",
                  "rawType": "int64",
                  "type": "integer"
                }
              ],
              "ref": "debc96e2-ba96-4331-84a9-e4897d7a4ae8",
              "rows": [
                [
                  "TV LED UHD 4K",
                  "60"
                ],
                [
                  "Microondas",
                  "60"
                ],
                [
                  "Armario",
                  "60"
                ],
                [
                  "Secadora de ropa",
                  "58"
                ],
                [
                  "Bloques de construcción",
                  "56"
                ],
                [
                  "Mesa de noche",
                  "56"
                ],
                [
                  "Balón de baloncesto",
                  "55"
                ],
                [
                  "Vaso térmico",
                  "54"
                ],
                [
                  "Impresora",
                  "54"
                ],
                [
                  "Refrigerador",
                  "54"
                ],
                [
                  "Bicicleta",
                  "54"
                ],
                [
                  "Batería",
                  "53"
                ],
                [
                  "Carrito de control remoto",
                  "52"
                ],
                [
                  "Cubertería",
                  "52"
                ],
                [
                  "Modelado predictivo",
                  "51"
                ],
                [
                  "Auriculares",
                  "50"
                ],
                [
                  "Ajedrez de madera",
                  "49"
                ],
                [
                  "Iphone 15",
                  "49"
                ],
                [
                  "Lavavajillas",
                  "48"
                ],
                [
                  "Guitarra eléctrica",
                  "47"
                ],
                [
                  "Lavadora de ropa",
                  "47"
                ],
                [
                  "Guitarra acústica",
                  "46"
                ],
                [
                  "Silla de oficina",
                  "46"
                ],
                [
                  "Sofá reclinable",
                  "46"
                ],
                [
                  "Estufa",
                  "45"
                ],
                [
                  "Mesa de centro",
                  "44"
                ],
                [
                  "Cama box",
                  "44"
                ],
                [
                  "Cubo mágico 8x8",
                  "44"
                ],
                [
                  "Kit de bancas",
                  "44"
                ],
                [
                  "Cama king",
                  "44"
                ],
                [
                  "Smart TV",
                  "44"
                ],
                [
                  "Juego de mesa",
                  "43"
                ],
                [
                  "Set de ollas",
                  "43"
                ],
                [
                  "Smartwatch",
                  "43"
                ],
                [
                  "Balón de voleibol",
                  "42"
                ],
                [
                  "Tablet ABXY",
                  "42"
                ],
                [
                  "Dashboards con Power BI",
                  "42"
                ],
                [
                  "Sillón",
                  "41"
                ],
                [
                  "Iniciando en programación",
                  "41"
                ],
                [
                  "Set de vasos",
                  "41"
                ],
                [
                  "Asistente virtual",
                  "40"
                ],
                [
                  "Cuerda para saltar",
                  "40"
                ],
                [
                  "Muñeca bebé",
                  "40"
                ],
                [
                  "Mesa de comedor",
                  "40"
                ],
                [
                  "Dinosaurio Rex",
                  "40"
                ],
                [
                  "Ciencia de datos con Python",
                  "39"
                ],
                [
                  "Mochila",
                  "39"
                ],
                [
                  "Pandereta",
                  "36"
                ],
                [
                  "Olla de presión",
                  "35"
                ],
                [
                  "Auriculares con micrófono",
                  "33"
                ]
              ],
              "shape": {
                "columns": 1,
                "rows": 51
              }
            },
            "text/plain": [
              "Producto\n",
              "TV LED UHD 4K                  60\n",
              "Microondas                     60\n",
              "Armario                        60\n",
              "Secadora de ropa               58\n",
              "Bloques de construcción        56\n",
              "Mesa de noche                  56\n",
              "Balón de baloncesto            55\n",
              "Vaso térmico                   54\n",
              "Impresora                      54\n",
              "Refrigerador                   54\n",
              "Bicicleta                      54\n",
              "Batería                        53\n",
              "Carrito de control remoto      52\n",
              "Cubertería                     52\n",
              "Modelado predictivo            51\n",
              "Auriculares                    50\n",
              "Ajedrez de madera              49\n",
              "Iphone 15                      49\n",
              "Lavavajillas                   48\n",
              "Guitarra eléctrica             47\n",
              "Lavadora de ropa               47\n",
              "Guitarra acústica              46\n",
              "Silla de oficina               46\n",
              "Sofá reclinable                46\n",
              "Estufa                         45\n",
              "Mesa de centro                 44\n",
              "Cama box                       44\n",
              "Cubo mágico 8x8                44\n",
              "Kit de bancas                  44\n",
              "Cama king                      44\n",
              "Smart TV                       44\n",
              "Juego de mesa                  43\n",
              "Set de ollas                   43\n",
              "Smartwatch                     43\n",
              "Balón de voleibol              42\n",
              "Tablet ABXY                    42\n",
              "Dashboards con Power BI        42\n",
              "Sillón                         41\n",
              "Iniciando en programación      41\n",
              "Set de vasos                   41\n",
              "Asistente virtual              40\n",
              "Cuerda para saltar             40\n",
              "Muñeca bebé                    40\n",
              "Mesa de comedor                40\n",
              "Dinosaurio Rex                 40\n",
              "Ciencia de datos con Python    39\n",
              "Mochila                        39\n",
              "Pandereta                      36\n",
              "Olla de presión                35\n",
              "Auriculares con micrófono      33\n",
              "Celular ABXY                   33\n",
              "dtype: int64"
            ]
          },
          "execution_count": 165,
          "metadata": {},
          "output_type": "execute_result"
        }
      ],
      "source": [
        "ventas_producto_tienda_1"
      ]
    },
    {
      "cell_type": "code",
      "execution_count": 166,
      "metadata": {},
      "outputs": [
        {
          "data": {
            "application/vnd.microsoft.datawrangler.viewer.v0+json": {
              "columns": [
                {
                  "name": "Producto",
                  "rawType": "object",
                  "type": "string"
                },
                {
                  "name": "0",
                  "rawType": "int64",
                  "type": "integer"
                }
              ],
              "ref": "dd78ee17-4b27-4465-a41f-158963841c17",
              "rows": [
                [
                  "Iniciando en programación",
                  "65"
                ],
                [
                  "Microondas",
                  "62"
                ],
                [
                  "Batería",
                  "61"
                ],
                [
                  "Pandereta",
                  "58"
                ],
                [
                  "Guitarra acústica",
                  "58"
                ],
                [
                  "Secadora de ropa",
                  "57"
                ],
                [
                  "Iphone 15",
                  "55"
                ],
                [
                  "Bloques de construcción",
                  "54"
                ],
                [
                  "Armario",
                  "54"
                ],
                [
                  "Set de ollas",
                  "52"
                ],
                [
                  "Cuerda para saltar",
                  "50"
                ],
                [
                  "Silla de oficina",
                  "49"
                ],
                [
                  "Refrigerador",
                  "49"
                ],
                [
                  "Lavadora de ropa",
                  "49"
                ],
                [
                  "Muñeca bebé",
                  "48"
                ],
                [
                  "Guitarra eléctrica",
                  "47"
                ],
                [
                  "Vaso térmico",
                  "47"
                ],
                [
                  "Cama box",
                  "47"
                ],
                [
                  "Carrito de control remoto",
                  "47"
                ],
                [
                  "Set de vasos",
                  "46"
                ],
                [
                  "Balón de voleibol",
                  "46"
                ],
                [
                  "Modelado predictivo",
                  "46"
                ],
                [
                  "Lavavajillas",
                  "46"
                ],
                [
                  "Cubo mágico 8x8",
                  "45"
                ],
                [
                  "Cama king",
                  "45"
                ],
                [
                  "TV LED UHD 4K",
                  "45"
                ],
                [
                  "Bicicleta",
                  "45"
                ],
                [
                  "Mesa de centro",
                  "45"
                ],
                [
                  "Mochila",
                  "45"
                ],
                [
                  "Kit de bancas",
                  "45"
                ],
                [
                  "Ajedrez de madera",
                  "45"
                ],
                [
                  "Auriculares con micrófono",
                  "44"
                ],
                [
                  "Smartwatch",
                  "44"
                ],
                [
                  "Tablet ABXY",
                  "44"
                ],
                [
                  "Olla de presión",
                  "44"
                ],
                [
                  "Mesa de noche",
                  "44"
                ],
                [
                  "Sofá reclinable",
                  "44"
                ],
                [
                  "Dashboards con Power BI",
                  "43"
                ],
                [
                  "Ciencia de datos con Python",
                  "43"
                ],
                [
                  "Balón de baloncesto",
                  "42"
                ],
                [
                  "Dinosaurio Rex",
                  "42"
                ],
                [
                  "Estufa",
                  "42"
                ],
                [
                  "Celular ABXY",
                  "41"
                ],
                [
                  "Smart TV",
                  "40"
                ],
                [
                  "Cubertería",
                  "39"
                ],
                [
                  "Asistente virtual",
                  "38"
                ],
                [
                  "Auriculares",
                  "37"
                ],
                [
                  "Sillón",
                  "35"
                ],
                [
                  "Impresora",
                  "34"
                ],
                [
                  "Mesa de comedor",
                  "34"
                ]
              ],
              "shape": {
                "columns": 1,
                "rows": 51
              }
            },
            "text/plain": [
              "Producto\n",
              "Iniciando en programación      65\n",
              "Microondas                     62\n",
              "Batería                        61\n",
              "Pandereta                      58\n",
              "Guitarra acústica              58\n",
              "Secadora de ropa               57\n",
              "Iphone 15                      55\n",
              "Bloques de construcción        54\n",
              "Armario                        54\n",
              "Set de ollas                   52\n",
              "Cuerda para saltar             50\n",
              "Silla de oficina               49\n",
              "Refrigerador                   49\n",
              "Lavadora de ropa               49\n",
              "Muñeca bebé                    48\n",
              "Guitarra eléctrica             47\n",
              "Vaso térmico                   47\n",
              "Cama box                       47\n",
              "Carrito de control remoto      47\n",
              "Set de vasos                   46\n",
              "Balón de voleibol              46\n",
              "Modelado predictivo            46\n",
              "Lavavajillas                   46\n",
              "Cubo mágico 8x8                45\n",
              "Cama king                      45\n",
              "TV LED UHD 4K                  45\n",
              "Bicicleta                      45\n",
              "Mesa de centro                 45\n",
              "Mochila                        45\n",
              "Kit de bancas                  45\n",
              "Ajedrez de madera              45\n",
              "Auriculares con micrófono      44\n",
              "Smartwatch                     44\n",
              "Tablet ABXY                    44\n",
              "Olla de presión                44\n",
              "Mesa de noche                  44\n",
              "Sofá reclinable                44\n",
              "Dashboards con Power BI        43\n",
              "Ciencia de datos con Python    43\n",
              "Balón de baloncesto            42\n",
              "Dinosaurio Rex                 42\n",
              "Estufa                         42\n",
              "Celular ABXY                   41\n",
              "Smart TV                       40\n",
              "Cubertería                     39\n",
              "Asistente virtual              38\n",
              "Auriculares                    37\n",
              "Sillón                         35\n",
              "Impresora                      34\n",
              "Mesa de comedor                34\n",
              "Juego de mesa                  32\n",
              "dtype: int64"
            ]
          },
          "execution_count": 166,
          "metadata": {},
          "output_type": "execute_result"
        }
      ],
      "source": [
        "ventas_producto_tienda_2"
      ]
    },
    {
      "cell_type": "code",
      "execution_count": 167,
      "metadata": {},
      "outputs": [
        {
          "data": {
            "application/vnd.microsoft.datawrangler.viewer.v0+json": {
              "columns": [
                {
                  "name": "Producto",
                  "rawType": "object",
                  "type": "string"
                },
                {
                  "name": "0",
                  "rawType": "int64",
                  "type": "integer"
                }
              ],
              "ref": "1cb55e35-959f-4b4e-ab1a-0333beae1880",
              "rows": [
                [
                  "Kit de bancas",
                  "57"
                ],
                [
                  "Cama king",
                  "56"
                ],
                [
                  "Mesa de comedor",
                  "56"
                ],
                [
                  "Mesa de noche",
                  "55"
                ],
                [
                  "Set de ollas",
                  "55"
                ],
                [
                  "Smart TV",
                  "54"
                ],
                [
                  "Modelado predictivo",
                  "53"
                ],
                [
                  "Estufa",
                  "53"
                ],
                [
                  "Cuerda para saltar",
                  "53"
                ],
                [
                  "Juego de mesa",
                  "52"
                ],
                [
                  "Carrito de control remoto",
                  "52"
                ],
                [
                  "Bicicleta",
                  "52"
                ],
                [
                  "Lavavajillas",
                  "52"
                ],
                [
                  "Pandereta",
                  "51"
                ],
                [
                  "Balón de baloncesto",
                  "50"
                ],
                [
                  "Impresora",
                  "50"
                ],
                [
                  "Refrigerador",
                  "50"
                ],
                [
                  "Armario",
                  "49"
                ],
                [
                  "Balón de voleibol",
                  "48"
                ],
                [
                  "Tablet ABXY",
                  "48"
                ],
                [
                  "Olla de presión",
                  "47"
                ],
                [
                  "Sillón",
                  "47"
                ],
                [
                  "Guitarra acústica",
                  "47"
                ],
                [
                  "Ajedrez de madera",
                  "47"
                ],
                [
                  "Silla de oficina",
                  "46"
                ],
                [
                  "Smartwatch",
                  "46"
                ],
                [
                  "Iphone 15",
                  "46"
                ],
                [
                  "Iniciando en programación",
                  "46"
                ],
                [
                  "Cama box",
                  "46"
                ],
                [
                  "Dinosaurio Rex",
                  "46"
                ],
                [
                  "Ciencia de datos con Python",
                  "46"
                ],
                [
                  "Sofá reclinable",
                  "45"
                ],
                [
                  "Secadora de ropa",
                  "45"
                ],
                [
                  "Cubo mágico 8x8",
                  "44"
                ],
                [
                  "Celular ABXY",
                  "44"
                ],
                [
                  "Auriculares",
                  "43"
                ],
                [
                  "Lavadora de ropa",
                  "42"
                ],
                [
                  "Mesa de centro",
                  "42"
                ],
                [
                  "TV LED UHD 4K",
                  "42"
                ],
                [
                  "Batería",
                  "41"
                ],
                [
                  "Dashboards con Power BI",
                  "40"
                ],
                [
                  "Muñeca bebé",
                  "39"
                ],
                [
                  "Cubertería",
                  "39"
                ],
                [
                  "Auriculares con micrófono",
                  "39"
                ],
                [
                  "Asistente virtual",
                  "39"
                ],
                [
                  "Guitarra eléctrica",
                  "38"
                ],
                [
                  "Vaso térmico",
                  "38"
                ],
                [
                  "Mochila",
                  "36"
                ],
                [
                  "Microondas",
                  "36"
                ],
                [
                  "Set de vasos",
                  "36"
                ]
              ],
              "shape": {
                "columns": 1,
                "rows": 51
              }
            },
            "text/plain": [
              "Producto\n",
              "Kit de bancas                  57\n",
              "Cama king                      56\n",
              "Mesa de comedor                56\n",
              "Mesa de noche                  55\n",
              "Set de ollas                   55\n",
              "Smart TV                       54\n",
              "Modelado predictivo            53\n",
              "Estufa                         53\n",
              "Cuerda para saltar             53\n",
              "Juego de mesa                  52\n",
              "Carrito de control remoto      52\n",
              "Bicicleta                      52\n",
              "Lavavajillas                   52\n",
              "Pandereta                      51\n",
              "Balón de baloncesto            50\n",
              "Impresora                      50\n",
              "Refrigerador                   50\n",
              "Armario                        49\n",
              "Balón de voleibol              48\n",
              "Tablet ABXY                    48\n",
              "Olla de presión                47\n",
              "Sillón                         47\n",
              "Guitarra acústica              47\n",
              "Ajedrez de madera              47\n",
              "Silla de oficina               46\n",
              "Smartwatch                     46\n",
              "Iphone 15                      46\n",
              "Iniciando en programación      46\n",
              "Cama box                       46\n",
              "Dinosaurio Rex                 46\n",
              "Ciencia de datos con Python    46\n",
              "Sofá reclinable                45\n",
              "Secadora de ropa               45\n",
              "Cubo mágico 8x8                44\n",
              "Celular ABXY                   44\n",
              "Auriculares                    43\n",
              "Lavadora de ropa               42\n",
              "Mesa de centro                 42\n",
              "TV LED UHD 4K                  42\n",
              "Batería                        41\n",
              "Dashboards con Power BI        40\n",
              "Muñeca bebé                    39\n",
              "Cubertería                     39\n",
              "Auriculares con micrófono      39\n",
              "Asistente virtual              39\n",
              "Guitarra eléctrica             38\n",
              "Vaso térmico                   38\n",
              "Mochila                        36\n",
              "Microondas                     36\n",
              "Set de vasos                   36\n",
              "Bloques de construcción        35\n",
              "dtype: int64"
            ]
          },
          "execution_count": 167,
          "metadata": {},
          "output_type": "execute_result"
        }
      ],
      "source": [
        "ventas_producto_tienda_3"
      ]
    },
    {
      "cell_type": "code",
      "execution_count": 168,
      "metadata": {},
      "outputs": [
        {
          "data": {
            "application/vnd.microsoft.datawrangler.viewer.v0+json": {
              "columns": [
                {
                  "name": "Producto",
                  "rawType": "object",
                  "type": "string"
                },
                {
                  "name": "0",
                  "rawType": "int64",
                  "type": "integer"
                }
              ],
              "ref": "62d9f7eb-9b3b-4b63-a924-bb7ef1566bb8",
              "rows": [
                [
                  "Cama box",
                  "62"
                ],
                [
                  "Cubertería",
                  "59"
                ],
                [
                  "Dashboards con Power BI",
                  "56"
                ],
                [
                  "Cama king",
                  "56"
                ],
                [
                  "Mesa de comedor",
                  "55"
                ],
                [
                  "Mesa de noche",
                  "55"
                ],
                [
                  "Carrito de control remoto",
                  "55"
                ],
                [
                  "Bloques de construcción",
                  "54"
                ],
                [
                  "Smart TV",
                  "54"
                ],
                [
                  "Pandereta",
                  "52"
                ],
                [
                  "Modelado predictivo",
                  "50"
                ],
                [
                  "Impresora",
                  "50"
                ],
                [
                  "Balón de baloncesto",
                  "50"
                ],
                [
                  "Set de ollas",
                  "50"
                ],
                [
                  "Asistente virtual",
                  "50"
                ],
                [
                  "Muñeca bebé",
                  "48"
                ],
                [
                  "Microondas",
                  "48"
                ],
                [
                  "Juego de mesa",
                  "48"
                ],
                [
                  "Iphone 15",
                  "48"
                ],
                [
                  "Vaso térmico",
                  "48"
                ],
                [
                  "Balón de voleibol",
                  "48"
                ],
                [
                  "Batería",
                  "48"
                ],
                [
                  "Estufa",
                  "47"
                ],
                [
                  "Cubo mágico 8x8",
                  "47"
                ],
                [
                  "Dinosaurio Rex",
                  "47"
                ],
                [
                  "Sofá reclinable",
                  "47"
                ],
                [
                  "Set de vasos",
                  "46"
                ],
                [
                  "Olla de presión",
                  "46"
                ],
                [
                  "Tablet ABXY",
                  "45"
                ],
                [
                  "Sillón",
                  "45"
                ],
                [
                  "Bicicleta",
                  "45"
                ],
                [
                  "Mesa de centro",
                  "44"
                ],
                [
                  "Auriculares",
                  "44"
                ],
                [
                  "Iniciando en programación",
                  "43"
                ],
                [
                  "Mochila",
                  "43"
                ],
                [
                  "Lavavajillas",
                  "43"
                ],
                [
                  "Cuerda para saltar",
                  "43"
                ],
                [
                  "Kit de bancas",
                  "42"
                ],
                [
                  "Auriculares con micrófono",
                  "42"
                ],
                [
                  "Secadora de ropa",
                  "40"
                ],
                [
                  "Silla de oficina",
                  "40"
                ],
                [
                  "TV LED UHD 4K",
                  "40"
                ],
                [
                  "Smartwatch",
                  "39"
                ],
                [
                  "Celular ABXY",
                  "39"
                ],
                [
                  "Ajedrez de madera",
                  "39"
                ],
                [
                  "Refrigerador",
                  "38"
                ],
                [
                  "Ciencia de datos con Python",
                  "38"
                ],
                [
                  "Lavadora de ropa",
                  "38"
                ],
                [
                  "Guitarra acústica",
                  "37"
                ],
                [
                  "Armario",
                  "34"
                ]
              ],
              "shape": {
                "columns": 1,
                "rows": 51
              }
            },
            "text/plain": [
              "Producto\n",
              "Cama box                       62\n",
              "Cubertería                     59\n",
              "Dashboards con Power BI        56\n",
              "Cama king                      56\n",
              "Mesa de comedor                55\n",
              "Mesa de noche                  55\n",
              "Carrito de control remoto      55\n",
              "Bloques de construcción        54\n",
              "Smart TV                       54\n",
              "Pandereta                      52\n",
              "Modelado predictivo            50\n",
              "Impresora                      50\n",
              "Balón de baloncesto            50\n",
              "Set de ollas                   50\n",
              "Asistente virtual              50\n",
              "Muñeca bebé                    48\n",
              "Microondas                     48\n",
              "Juego de mesa                  48\n",
              "Iphone 15                      48\n",
              "Vaso térmico                   48\n",
              "Balón de voleibol              48\n",
              "Batería                        48\n",
              "Estufa                         47\n",
              "Cubo mágico 8x8                47\n",
              "Dinosaurio Rex                 47\n",
              "Sofá reclinable                47\n",
              "Set de vasos                   46\n",
              "Olla de presión                46\n",
              "Tablet ABXY                    45\n",
              "Sillón                         45\n",
              "Bicicleta                      45\n",
              "Mesa de centro                 44\n",
              "Auriculares                    44\n",
              "Iniciando en programación      43\n",
              "Mochila                        43\n",
              "Lavavajillas                   43\n",
              "Cuerda para saltar             43\n",
              "Kit de bancas                  42\n",
              "Auriculares con micrófono      42\n",
              "Secadora de ropa               40\n",
              "Silla de oficina               40\n",
              "TV LED UHD 4K                  40\n",
              "Smartwatch                     39\n",
              "Celular ABXY                   39\n",
              "Ajedrez de madera              39\n",
              "Refrigerador                   38\n",
              "Ciencia de datos con Python    38\n",
              "Lavadora de ropa               38\n",
              "Guitarra acústica              37\n",
              "Armario                        34\n",
              "Guitarra eléctrica             33\n",
              "dtype: int64"
            ]
          },
          "execution_count": 168,
          "metadata": {},
          "output_type": "execute_result"
        }
      ],
      "source": [
        "ventas_producto_tienda_4"
      ]
    },
    {
      "cell_type": "code",
      "execution_count": 169,
      "metadata": {},
      "outputs": [
        {
          "data": {
            "image/png": "[encoded data removed]",
            "text/plain": [
              "<Figure size 1200x1000 with 1 Axes>"
            ]
          },
          "metadata": {},
          "output_type": "display_data"
        }
      ],
      "source": [
        "datos_ventas_producto = {\n",
        "    \"Tienda 1\": ventas_producto_tienda_1,\n",
        "    \"Tienda 2\": ventas_producto_tienda_2,\n",
        "    \"Tienda 3\": ventas_producto_tienda_3,\n",
        "    \"Tienda 4\": ventas_producto_tienda_4,\n",
        "}\n",
        "\n",
        "df_ventas_producto = pd.concat(datos_ventas_producto, axis=1)\n",
        "df_ventas_producto = df_ventas_producto.fillna(0)\n",
        "\n",
        "df_ventas_producto[\"Total\"] = df_ventas_producto.sum(axis=1)\n",
        "\n",
        "top_15_productos = (\n",
        "    df_ventas_producto.sort_values(by=\"Total\", ascending=True).tail(15).index\n",
        ")\n",
        "df_top_15 = df_ventas_producto.loc[top_15_productos].drop(columns=[\"Total\"])\n",
        "\n",
        "ax = df_top_15.plot(kind=\"barh\", stacked=False, figsize=(12, 10))\n",
        "\n",
        "max_valor_top_15 = df_top_15.values.max()\n",
        "marcas_x = np.arange(0, max_valor_top_15 + 5, 5)\n",
        "\n",
        "ax.set_xticks(marcas_x)\n",
        "\n",
        "plt.title(\n",
        "    \"TOP 15 Productos Más Vendidos: Comparación por Tienda\",\n",
        "    fontsize=16,\n",
        "    fontweight=\"bold\",\n",
        ")\n",
        "plt.xlabel(\"Cantidad de Productos Vendidos\", fontsize=12)\n",
        "plt.ylabel(\"Producto\", fontsize=12)\n",
        "plt.legend(title=\"Tienda\")\n",
        "plt.grid(axis=\"x\", linestyle=\"--\", alpha=0.6)\n",
        "plt.tight_layout()\n",
        "plt.show()"
      ]
    },
    {
      "cell_type": "markdown",
      "metadata": {
        "id": "Fl0cGi3bZKqU"
      },
      "source": [
        "# 5. Envío promedio por tienda\n"
      ]
    },
    {
      "cell_type": "markdown",
      "metadata": {},
      "source": [
        "### El objetivo es comprender cuánto se gasta, en promedio, en el envío de cada tienda. Sabiendo que el cliente paga el envío.\n"
      ]
    },
    {
      "cell_type": "code",
      "execution_count": 170,
      "metadata": {
        "id": "S2JeaCykZNy9"
      },
      "outputs": [
        {
          "name": "stdout",
          "output_type": "stream",
          "text": [
            "Costo Promedio de Envío Tienda 1: 26,018.61\n",
            "Costo Promedio de Envío Tienda 2: 25,216.24\n",
            "Costo Promedio de Envío Tienda 3: 24,805.68\n",
            "Costo Promedio de Envío Tienda 4: 23,459.46\n"
          ]
        }
      ],
      "source": [
        "costo_promedio_tienda_1 = tienda[\"Costo de envío\"].mean()\n",
        "costo_promedio_tienda_2 = tienda2[\"Costo de envío\"].mean()\n",
        "costo_promedio_tienda_3 = tienda3[\"Costo de envío\"].mean()\n",
        "costo_promedio_tienda_4 = tienda4[\"Costo de envío\"].mean()\n",
        "\n",
        "print(f\"Costo Promedio de Envío Tienda 1: {costo_promedio_tienda_1:,.2f}\")\n",
        "print(f\"Costo Promedio de Envío Tienda 2: {costo_promedio_tienda_2:,.2f}\")\n",
        "print(f\"Costo Promedio de Envío Tienda 3: {costo_promedio_tienda_3:,.2f}\")\n",
        "print(f\"Costo Promedio de Envío Tienda 4: {costo_promedio_tienda_4:,.2f}\")"
      ]
    },
    {
      "cell_type": "code",
      "execution_count": 171,
      "metadata": {},
      "outputs": [
        {
          "data": {
            "image/png": "[encoded data removed]",
            "text/plain": [
              "<Figure size 900x600 with 1 Axes>"
            ]
          },
          "metadata": {},
          "output_type": "display_data"
        }
      ],
      "source": [
        "datos_costo_promedio = {\n",
        "    \"Tienda 1\": costo_promedio_tienda_1,\n",
        "    \"Tienda 2\": costo_promedio_tienda_2,\n",
        "    \"Tienda 3\": costo_promedio_tienda_3,\n",
        "    \"Tienda 4\": costo_promedio_tienda_4,\n",
        "}\n",
        "\n",
        "ranking_costo_promedio = pd.Series(datos_costo_promedio).sort_values(ascending=False)\n",
        "\n",
        "ranking_costo_promedio.plot(\n",
        "    kind=\"bar\",\n",
        "    figsize=(9, 6),\n",
        "    color=[\"#1f77b4\", \"#ff7f0e\", \"#2ca02c\", \"#d62728\"],\n",
        "    rot=0,\n",
        ")\n",
        "\n",
        "plt.title(\"Ranking de Costo Total de Envío por Tienda\", fontsize=16, fontweight=\"bold\")\n",
        "\n",
        "plt.xlabel(\"Tienda\", fontsize=12)\n",
        "plt.ylabel(\"Costo Promedio de Envío\", fontsize=12)\n",
        "\n",
        "y_tick_values = plt.gca().get_yticks()\n",
        "plt.gca().set_yticks(y_tick_values)\n",
        "plt.gca().set_yticklabels([f\"{x:,.2f}\" for x in y_tick_values])\n",
        "\n",
        "\n",
        "ax = plt.gca()\n",
        "for i, v in enumerate(ranking_costo_promedio.values):\n",
        "    ax.text(i, v + 0.005, f\"{v:,.2f}\", ha=\"center\", va=\"bottom\", fontsize=10)\n",
        "\n",
        "plt.grid(axis=\"y\", linestyle=\"--\", alpha=0.7)\n",
        "\n",
        "plt.tight_layout()\n",
        "plt.show()"
      ]
    },
    {
      "cell_type": "markdown",
      "metadata": {},
      "source": [
        "# INFORME FINAL: RECOMENDACIÓN DE VENTA AL SR. JUAN\n",
        "\n",
        "### Introducción\n",
        "\n",
        "El presente informe tiene como propósito evaluar el rendimiento y las características operativas de las Tiendas 1, 2, 3 y 4. El objetivo es determinar cuál de estas unidades de negocio representa la opción más lógica para la venta o **desinversión** por parte del Sr. Juan, permitiendo así capitalizar y enfocar los esfuerzos en las unidades más rentables o invertir en un nuevo proyecto.\n",
        "\n",
        "---\n",
        "\n",
        "### Desarrollo del Análisis de Rendimiento\n",
        "\n",
        "Los siguientes análisis demuestran que la **Tienda 4** es la unidad de negocio con el menor rendimiento en las métricas clave:\n",
        "\n",
        "#### 1. Ingreso Total (Análisis de Facturación)\n",
        "\n",
        "El Ingreso Total es el factor principal para evaluar la rentabilidad.\n",
        "\n",
        "- **Hallazgo Clave:** La Tienda 4 se posiciona consistentemente como la de **menor facturación** con un Ingreso Total de **$1,038,375,700.00**, quedando sustancialmente por detrás de la Tienda 1, la cual lidera con $1,150,880,400.00$. Este déficit la marca como la unidad menos productiva monetariamente.\n",
        "\n",
        "#### 2. Volumen de Ventas (Categoría y Productos)\n",
        "\n",
        "El análisis de ventas por volumen refuerza el bajo rendimiento monetario de la Tienda 4:\n",
        "\n",
        "- **Ventas por Categoría:** La gráfica de _Ventas por Categoría_ muestra que la Tienda 4 tiene una menor contribución general al volumen de productos vendidos en comparación con sus competidoras.\n",
        "- **Productos Más Vendidos:** El análisis de los _TOP 15 Productos Más Vendidos_ confirma que la **Tienda 4 no entra en las ventas** de muchos de los artículos de alta demanda.\n",
        "\n",
        "#### 3. Calificación Promedio de la Tienda (Satisfacción)\n",
        "\n",
        "La calificación de clientes es crucial para la reputación.\n",
        "\n",
        "- **Hallazgo Clave:** Si bien la Tienda 4 ($\\text{4.00}$) tiene una calificación ligeramente superior a la Tienda 1 ($\\text{3.98}$), **esta diferencia es mínima**. Este pequeño margen positivo no es suficiente para compensar la debilidad crítica en ingresos y volumen de ventas. Por lo tanto, no la salva de ser considerada la unidad más débil del portafolio.\n",
        "\n",
        "#### 4. Costo Promedio de Envío\n",
        "\n",
        "- **Fortaleza Minoritaria:** La Tienda 4 presenta el **costo promedio de envío más bajo** ($23,459.46$). Sin embargo, como se afirma, esta eficiencia logística **no logra revertir la tendencia** de bajo rendimiento en ingresos y ventas.\n",
        "\n",
        "---\n",
        "\n",
        "### Conclusión y Recomendación\n",
        "\n",
        "**Recomendación:** La tienda que se debe vender es la **Tienda 4**.\n",
        "\n",
        "**Justificación Estratégica:**\n",
        "\n",
        "La decisión de vender la **Tienda 4** se justifica al eliminar la unidad de negocio con el **rendimiento más bajo** en las métricas críticas de facturación y volumen.\n",
        "\n",
        "- **Objetivo de Capitalización:** Vender la unidad menos productiva permite al Sr. Juan liberar el capital invertido y **reutilizar esos fondos para invertir en un nuevo negocio**, o bien, para fortalecer las operaciones de las Tiendas 1, 2 y 3, que han demostrado ser más sólidas en generación de ingresos y ventas.\n",
        "- **Minimización de Esfuerzos:** Concentrar los recursos y esfuerzos en las tres unidades más fuertes es una estrategia de optimización de portafolio, descartando la unidad que requiere más esfuerzo para generar el menor retorno.\n"
      ]
    }
  ],
  "metadata": {
    "colab": {
      "provenance": []
    },
    "kernelspec": {
      "display_name": "Python 3",
      "name": "python3"
    },
    "language_info": {
      "codemirror_mode": {
        "name": "ipython",
        "version": 3
      },
      "file_extension": ".py",
      "mimetype": "text/x-python",
      "name": "python",
      "nbconvert_exporter": "python",
      "pygments_lexer": "ipython3",
      "version": "3.13.3"
    }
  },
  "nbformat": 4,
  "nbformat_minor": 0
}
